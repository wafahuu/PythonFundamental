{
 "cells": [
  {
   "cell_type": "markdown",
   "metadata": {},
   "source": [
    "# Simple Calculator"
   ]
  },
  {
   "cell_type": "code",
   "execution_count": 1,
   "metadata": {},
   "outputs": [],
   "source": [
    "def calculator(metode,x,y):\n",
    "    if metode == 'perkalian':\n",
    "        result = x * y\n",
    "    elif metode == 'pembagian':\n",
    "        result = x / y\n",
    "    elif metode == 'pengurangan':\n",
    "        result = x - y\n",
    "    elif metode == 'pejumlahan':\n",
    "        result = x + y\n",
    "    else: \n",
    "        print(\"Format salah\")\n",
    "    return result"
   ]
  },
  {
   "cell_type": "code",
   "execution_count": null,
   "metadata": {},
   "outputs": [],
   "source": [
    "metode = str(input())\n",
    "x = int(input())\n",
    "y = int(input())\n",
    "calculator(metode,x,y)"
   ]
  }
 ],
 "metadata": {
  "kernelspec": {
   "display_name": "Python 3",
   "language": "python",
   "name": "python3"
  },
  "language_info": {
   "codemirror_mode": {
    "name": "ipython",
    "version": 3
   },
   "file_extension": ".py",
   "mimetype": "text/x-python",
   "name": "python",
   "nbconvert_exporter": "python",
   "pygments_lexer": "ipython3",
   "version": "3.7.4"
  }
 },
 "nbformat": 4,
 "nbformat_minor": 2
}
